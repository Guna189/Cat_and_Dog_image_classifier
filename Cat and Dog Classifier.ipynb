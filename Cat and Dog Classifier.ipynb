{
 "cells": [
  {
   "cell_type": "code",
   "execution_count": 1,
   "id": "86b332a0",
   "metadata": {},
   "outputs": [],
   "source": [
    "import numpy as np\n",
    "import pandas as pd\n",
    "import os"
   ]
  },
  {
   "cell_type": "code",
   "execution_count": 28,
   "id": "083480e0",
   "metadata": {},
   "outputs": [],
   "source": [
    "import os\n",
    "import random\n",
    "import numpy as np\n",
    "import matplotlib.pyplot as plt\n",
    "from tensorflow import keras\n",
    "from tensorflow.keras.preprocessing.image import ImageDataGenerator\n",
    "from tensorflow.keras.models import Sequential\n",
    "from tensorflow.keras.layers import Conv2D, MaxPooling2D, Flatten, Dense"
   ]
  },
  {
   "cell_type": "code",
   "execution_count": 29,
   "id": "1b6c8cc0",
   "metadata": {},
   "outputs": [],
   "source": [
    "# Set the seed for reproducibility\n",
    "seed = 42\n",
    "np.random.seed(seed)"
   ]
  },
  {
   "cell_type": "code",
   "execution_count": 30,
   "id": "6b1b45f4",
   "metadata": {},
   "outputs": [],
   "source": [
    "# Define directories and parameters\n",
    "base_dir = 'PetImages'\n",
    "cat_dir = os.path.join(base_dir, 'Cat')\n",
    "dog_dir = os.path.join(base_dir, 'Dog')"
   ]
  },
  {
   "cell_type": "code",
   "execution_count": 31,
   "id": "4357e14d",
   "metadata": {},
   "outputs": [],
   "source": [
    "# Split data into train and test sets\n",
    "cat_files = os.listdir(cat_dir)\n",
    "dog_files = os.listdir(dog_dir)\n",
    "\n",
    "random.shuffle(cat_files)\n",
    "random.shuffle(dog_files)"
   ]
  },
  {
   "cell_type": "code",
   "execution_count": 32,
   "id": "8c586e5a",
   "metadata": {},
   "outputs": [],
   "source": [
    "split_ratio = 0.8  # 80% for training, 20% for testing\n",
    "cat_train_size = int(split_ratio * len(cat_files))\n",
    "dog_train_size = int(split_ratio * len(dog_files))"
   ]
  },
  {
   "cell_type": "code",
   "execution_count": 33,
   "id": "de34a41d",
   "metadata": {},
   "outputs": [],
   "source": [
    "cat_train_files, cat_test_files = cat_files[:cat_train_size], cat_files[cat_train_size:]\n",
    "dog_train_files, dog_test_files = dog_files[:dog_train_size], dog_files[dog_train_size:]"
   ]
  },
  {
   "cell_type": "code",
   "execution_count": 34,
   "id": "5d37bae9",
   "metadata": {},
   "outputs": [],
   "source": [
    "train_dir = os.path.join(base_dir, 'train')\n",
    "test_dir = os.path.join(base_dir, 'test')\n",
    "\n",
    "os.makedirs(train_dir, exist_ok=True)\n",
    "os.makedirs(test_dir, exist_ok=True)"
   ]
  },
  {
   "cell_type": "code",
   "execution_count": 35,
   "id": "5035a2d1",
   "metadata": {},
   "outputs": [],
   "source": [
    "for file in cat_train_files:\n",
    "    src_path = os.path.join(cat_dir, file)\n",
    "    dst_path = os.path.join(train_dir, 'cat', file)\n",
    "    os.makedirs(os.path.dirname(dst_path), exist_ok=True)\n",
    "    os.rename(src_path, dst_path)"
   ]
  },
  {
   "cell_type": "code",
   "execution_count": 36,
   "id": "0fdaae8b",
   "metadata": {},
   "outputs": [],
   "source": [
    "for file in dog_train_files:\n",
    "    src_path = os.path.join(dog_dir, file)\n",
    "    dst_path = os.path.join(train_dir, 'dog', file)\n",
    "    os.makedirs(os.path.dirname(dst_path), exist_ok=True)\n",
    "    os.rename(src_path, dst_path)"
   ]
  },
  {
   "cell_type": "code",
   "execution_count": 37,
   "id": "8fd62398",
   "metadata": {},
   "outputs": [],
   "source": [
    "for file in cat_test_files:\n",
    "    src_path = os.path.join(cat_dir, file)\n",
    "    dst_path = os.path.join(test_dir, 'cat', file)\n",
    "    os.makedirs(os.path.dirname(dst_path), exist_ok=True)\n",
    "    os.rename(src_path, dst_path)"
   ]
  },
  {
   "cell_type": "code",
   "execution_count": 38,
   "id": "79f65c3b",
   "metadata": {},
   "outputs": [],
   "source": [
    "for file in dog_test_files:\n",
    "    src_path = os.path.join(dog_dir, file)\n",
    "    dst_path = os.path.join(test_dir, 'dog', file)\n",
    "    os.makedirs(os.path.dirname(dst_path), exist_ok=True)\n",
    "    os.rename(src_path, dst_path)"
   ]
  },
  {
   "cell_type": "code",
   "execution_count": 39,
   "id": "2aa5f1e7",
   "metadata": {},
   "outputs": [],
   "source": [
    "# Data Preprocessing\n",
    "train_datagen = ImageDataGenerator(\n",
    "    rescale=1./255,\n",
    "    shear_range=0.2,\n",
    "    zoom_range=0.2,\n",
    "    horizontal_flip=True\n",
    ")\n",
    "\n",
    "test_datagen = ImageDataGenerator(rescale=1./255)"
   ]
  },
  {
   "cell_type": "code",
   "execution_count": 40,
   "id": "38658855",
   "metadata": {},
   "outputs": [
    {
     "name": "stdout",
     "output_type": "stream",
     "text": [
      "Found 19966 images belonging to 2 classes.\n",
      "Found 4993 images belonging to 2 classes.\n"
     ]
    }
   ],
   "source": [
    "# Create data generators\n",
    "train_generator = train_datagen.flow_from_directory(\n",
    "    train_dir,\n",
    "    target_size=(150, 150),\n",
    "    batch_size=32,\n",
    "    class_mode='binary'\n",
    ")\n",
    "\n",
    "test_generator = test_datagen.flow_from_directory(\n",
    "    test_dir,\n",
    "    target_size=(150, 150),\n",
    "    batch_size=32,\n",
    "    class_mode='binary'\n",
    ")"
   ]
  },
  {
   "cell_type": "code",
   "execution_count": null,
   "id": "148cfbca",
   "metadata": {},
   "outputs": [],
   "source": []
  },
  {
   "cell_type": "code",
   "execution_count": 41,
   "id": "83da30c1",
   "metadata": {},
   "outputs": [],
   "source": [
    "# Build the CNN model\n",
    "model = Sequential()\n",
    "model.add(Conv2D(32, (3, 3), activation='relu', input_shape=(150, 150, 3)))\n",
    "model.add(MaxPooling2D(2, 2))\n",
    "model.add(Conv2D(64, (3, 3), activation='relu'))\n",
    "model.add(MaxPooling2D(2, 2))\n",
    "model.add(Conv2D(128, (3, 3), activation='relu'))\n",
    "model.add(MaxPooling2D(2, 2))\n",
    "model.add(Flatten())\n",
    "model.add(Dense(512, activation='relu'))\n",
    "model.add(Dense(1, activation='sigmoid'))"
   ]
  },
  {
   "cell_type": "code",
   "execution_count": 42,
   "id": "402b09be",
   "metadata": {},
   "outputs": [],
   "source": [
    "# Compile the model\n",
    "model.compile(optimizer='adam', loss='binary_crossentropy', metrics=['accuracy'])"
   ]
  },
  {
   "cell_type": "code",
   "execution_count": 43,
   "id": "b567c8b6",
   "metadata": {},
   "outputs": [
    {
     "name": "stdout",
     "output_type": "stream",
     "text": [
      "Epoch 1/10\n",
      "594/624 [===========================>..] - ETA: 17s - loss: 0.6422 - accuracy: 0.6255"
     ]
    },
    {
     "name": "stderr",
     "output_type": "stream",
     "text": [
      "G:\\Anaconda\\lib\\site-packages\\PIL\\TiffImagePlugin.py:793: UserWarning: Truncated File Read\n",
      "  warnings.warn(str(msg))\n"
     ]
    },
    {
     "name": "stdout",
     "output_type": "stream",
     "text": [
      "624/624 [==============================] - 395s 632ms/step - loss: 0.6389 - accuracy: 0.6291 - val_loss: 0.5589 - val_accuracy: 0.7172\n",
      "Epoch 2/10\n",
      "624/624 [==============================] - 415s 665ms/step - loss: 0.5127 - accuracy: 0.7422 - val_loss: 0.4864 - val_accuracy: 0.7645\n",
      "Epoch 3/10\n",
      "256/624 [===========>..................] - ETA: 3:47 - loss: 0.4539 - accuracy: 0.7834"
     ]
    },
    {
     "name": "stderr",
     "output_type": "stream",
     "text": [
      "G:\\Anaconda\\lib\\site-packages\\PIL\\TiffImagePlugin.py:793: UserWarning: Truncated File Read\n",
      "  warnings.warn(str(msg))\n"
     ]
    },
    {
     "name": "stdout",
     "output_type": "stream",
     "text": [
      "624/624 [==============================] - 409s 655ms/step - loss: 0.4499 - accuracy: 0.7880 - val_loss: 0.4146 - val_accuracy: 0.8033\n",
      "Epoch 4/10\n",
      "624/624 [==============================] - 409s 656ms/step - loss: 0.4106 - accuracy: 0.8117 - val_loss: 0.3665 - val_accuracy: 0.8376\n",
      "Epoch 5/10\n",
      "624/624 [==============================] - 405s 650ms/step - loss: 0.3711 - accuracy: 0.8335 - val_loss: 0.3491 - val_accuracy: 0.8456\n",
      "Epoch 6/10\n",
      "624/624 [==============================] - 404s 647ms/step - loss: 0.3399 - accuracy: 0.8475 - val_loss: 0.3281 - val_accuracy: 0.8494\n",
      "Epoch 7/10\n",
      "624/624 [==============================] - 401s 643ms/step - loss: 0.3153 - accuracy: 0.8607 - val_loss: 0.3595 - val_accuracy: 0.8390\n",
      "Epoch 8/10\n",
      "624/624 [==============================] - 401s 642ms/step - loss: 0.2881 - accuracy: 0.8774 - val_loss: 0.3188 - val_accuracy: 0.8620\n",
      "Epoch 9/10\n",
      "624/624 [==============================] - 405s 648ms/step - loss: 0.2667 - accuracy: 0.8851 - val_loss: 0.3252 - val_accuracy: 0.8572\n",
      "Epoch 10/10\n",
      "624/624 [==============================] - 404s 648ms/step - loss: 0.2432 - accuracy: 0.8997 - val_loss: 0.3424 - val_accuracy: 0.8594\n"
     ]
    },
    {
     "data": {
      "text/plain": [
       "<Figure size 864x288 with 0 Axes>"
      ]
     },
     "execution_count": 43,
     "metadata": {},
     "output_type": "execute_result"
    },
    {
     "data": {
      "text/plain": [
       "<Figure size 864x288 with 0 Axes>"
      ]
     },
     "metadata": {},
     "output_type": "display_data"
    }
   ],
   "source": [
    "# Train the model\n",
    "history = model.fit(\n",
    "    train_generator,\n",
    "    steps_per_epoch=len(train_generator),\n",
    "    epochs=10,\n",
    "    validation_data=test_generator,\n",
    "    validation_steps=len(test_generator)\n",
    ")\n",
    "\n",
    "# Visualize training history\n",
    "plt.figure(figsize=(12, 4))"
   ]
  },
  {
   "cell_type": "code",
   "execution_count": 44,
   "id": "bece87a7",
   "metadata": {},
   "outputs": [
    {
     "data": {
      "image/png": "[encoded data removed]",
      "text/plain": [
       "<Figure size 432x288 with 1 Axes>"
      ]
     },
     "metadata": {
      "needs_background": "light"
     },
     "output_type": "display_data"
    }
   ],
   "source": [
    "# Plot training & validation accuracy values\n",
    "\n",
    "plt.plot(history.history['accuracy'])\n",
    "plt.plot(history.history['val_accuracy'])\n",
    "plt.title('Model accuracy')\n",
    "plt.xlabel('Epoch')\n",
    "plt.ylabel('Accuracy')\n",
    "plt.legend(['Train', 'Validation'], loc='upper left')\n",
    "plt.show()"
   ]
  },
  {
   "cell_type": "code",
   "execution_count": 45,
   "id": "fcb7b784",
   "metadata": {},
   "outputs": [
    {
     "data": {
      "image/png": "[encoded data removed]",
      "text/plain": [
       "<Figure size 432x288 with 1 Axes>"
      ]
     },
     "metadata": {
      "needs_background": "light"
     },
     "output_type": "display_data"
    }
   ],
   "source": [
    "# Plot training & validation loss values\n",
    "plt.plot(history.history['loss'])\n",
    "plt.plot(history.history['val_loss'])\n",
    "plt.title('Model loss')\n",
    "plt.xlabel('Epoch')\n",
    "plt.ylabel('Loss')\n",
    "plt.legend(['Train', 'Validation'], loc='upper left')\n",
    "\n",
    "plt.show()"
   ]
  },
  {
   "cell_type": "code",
   "execution_count": 46,
   "id": "d774939c",
   "metadata": {},
   "outputs": [
    {
     "name": "stdout",
     "output_type": "stream",
     "text": [
      "157/157 [==============================] - 26s 167ms/step - loss: 0.3424 - accuracy: 0.8594\n",
      "Test Loss: 0.34236785769462585\n",
      "Test Accuracy: 0.8594031929969788\n"
     ]
    }
   ],
   "source": [
    "# Evaluate the model\n",
    "score = model.evaluate(test_generator, steps=len(test_generator))\n",
    "print(\"Test Loss:\", score[0])\n",
    "print(\"Test Accuracy:\", score[1])"
   ]
  },
  {
   "cell_type": "code",
   "execution_count": 47,
   "id": "19512044",
   "metadata": {},
   "outputs": [
    {
     "name": "stdout",
     "output_type": "stream",
     "text": [
      "Model: \"sequential_1\"\n",
      "_________________________________________________________________\n",
      " Layer (type)                Output Shape              Param #   \n",
      "=================================================================\n",
      " conv2d_3 (Conv2D)           (None, 148, 148, 32)      896       \n",
      "                                                                 \n",
      " max_pooling2d_3 (MaxPooling  (None, 74, 74, 32)       0         \n",
      " 2D)                                                             \n",
      "                                                                 \n",
      " conv2d_4 (Conv2D)           (None, 72, 72, 64)        18496     \n",
      "                                                                 \n",
      " max_pooling2d_4 (MaxPooling  (None, 36, 36, 64)       0         \n",
      " 2D)                                                             \n",
      "                                                                 \n",
      " conv2d_5 (Conv2D)           (None, 34, 34, 128)       73856     \n",
      "                                                                 \n",
      " max_pooling2d_5 (MaxPooling  (None, 17, 17, 128)      0         \n",
      " 2D)                                                             \n",
      "                                                                 \n",
      " flatten_1 (Flatten)         (None, 36992)             0         \n",
      "                                                                 \n",
      " dense_2 (Dense)             (None, 512)               18940416  \n",
      "                                                                 \n",
      " dense_3 (Dense)             (None, 1)                 513       \n",
      "                                                                 \n",
      "=================================================================\n",
      "Total params: 19,034,177\n",
      "Trainable params: 19,034,177\n",
      "Non-trainable params: 0\n",
      "_________________________________________________________________\n"
     ]
    }
   ],
   "source": [
    "model.summary()"
   ]
  },
  {
   "cell_type": "code",
   "execution_count": 48,
   "id": "bbb132d6",
   "metadata": {},
   "outputs": [],
   "source": [
    "model.save('cat_dog_classifier.h5')"
   ]
  },
  {
   "cell_type": "code",
   "execution_count": 1,
   "id": "50382514",
   "metadata": {},
   "outputs": [
    {
     "name": "stderr",
     "output_type": "stream",
     "text": [
      "G:\\Anaconda\\lib\\site-packages\\gradio\\deprecation.py:43: UserWarning: You have unused kwarg parameters in Image, please remove them: {'target_size': (150, 150)}\n",
      "  warnings.warn(\n"
     ]
    },
    {
     "name": "stdout",
     "output_type": "stream",
     "text": [
      "Running on local URL:  http://127.0.0.1:7860\n",
      "\n",
      "To create a public link, set `share=True` in `launch()`.\n"
     ]
    },
    {
     "data": {
      "text/html": [
       "<div><iframe src=\"http://127.0.0.1:7860/\" width=\"100%\" height=\"500\" allow=\"autoplay; camera; microphone; clipboard-read; clipboard-write;\" frameborder=\"0\" allowfullscreen></iframe></div>"
      ],
      "text/plain": [
       "<IPython.core.display.HTML object>"
      ]
     },
     "metadata": {},
     "output_type": "display_data"
    },
    {
     "data": {
      "text/plain": []
     },
     "execution_count": 1,
     "metadata": {},
     "output_type": "execute_result"
    }
   ],
   "source": [
    "import gradio as gr\n",
    "import tensorflow as tf\n",
    "from tensorflow.keras.preprocessing import image\n",
    "import numpy as np\n",
    "\n",
    "# Load the trained model\n",
    "model = tf.keras.models.load_model('cat_dog_classifier.h5')  # Replace 'your_model_path' with the actual path to your saved model\n",
    "\n",
    "# Define the Gradio interface\n",
    "def predict_new_image(img):\n",
    "    # Check if the input is a file (path) or a PIL Image object\n",
    "    if isinstance(img, str):  # Assuming a string represents a file path\n",
    "        # Load and preprocess the image\n",
    "        img_path = img\n",
    "        img = image.load_img(img_path, target_size=(150, 150))\n",
    "    else:\n",
    "        # Gradio provides the image as a PIL Image object\n",
    "        img_path = \"uploaded_image.jpg\"\n",
    "        img = img.resize((150, 150))  # Resize the image to the expected size\n",
    "    \n",
    "    img_array = image.img_to_array(img)\n",
    "    img_array = np.expand_dims(img_array, axis=0)\n",
    "    img_array /= 255.0\n",
    "\n",
    "    # Make a prediction\n",
    "    prediction = model.predict(img_array)\n",
    "\n",
    "    # Convert the prediction to a human-readable label\n",
    "    if prediction[0][0] > 0.5:\n",
    "        label = \"Dog\"\n",
    "    else:\n",
    "        label = \"Cat\"\n",
    "\n",
    "    return str(label)\n",
    "\n",
    "# Create the Gradio interface\n",
    "iface = gr.Interface(\n",
    "    fn=predict_new_image,\n",
    "    inputs=gr.Image(type=\"pil\", label=\"Upload Image\", target_size=(150, 150)),\n",
    "    outputs=gr.Textbox(),\n",
    "    title=\"Cat and Dog Classifier\"\n",
    ")\n",
    "\n",
    "# Launch the Gradio interface\n",
    "iface.launch()\n"
   ]
  },
  {
   "cell_type": "code",
   "execution_count": null,
   "id": "3f0f89a9",
   "metadata": {},
   "outputs": [],
   "source": []
  }
 ],
 "metadata": {
  "kernelspec": {
   "display_name": "Python 3",
   "language": "python",
   "name": "python3"
  },
  "language_info": {
   "codemirror_mode": {
    "name": "ipython",
    "version": 3
   },
   "file_extension": ".py",
   "mimetype": "text/x-python",
   "name": "python",
   "nbconvert_exporter": "python",
   "pygments_lexer": "ipython3",
   "version": "3.8.8"
  }
 },
 "nbformat": 4,
 "nbformat_minor": 5
}
